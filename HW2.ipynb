{
  "nbformat": 4,
  "nbformat_minor": 0,
  "metadata": {
    "colab": {
      "provenance": [],
      "authorship_tag": "ABX9TyM77cc4TzaVM+Q67A8G5bjK",
      "include_colab_link": true
    },
    "kernelspec": {
      "name": "python3",
      "display_name": "Python 3"
    },
    "language_info": {
      "name": "python"
    }
  },
  "cells": [
    {
      "cell_type": "markdown",
      "metadata": {
        "id": "view-in-github",
        "colab_type": "text"
      },
      "source": [
        "<a href=\"https://colab.research.google.com/github/unalufuktepe/Ufuktepe_HW_G3/blob/main/HW2.ipynb\" target=\"_parent\"><img src=\"https://colab.research.google.com/assets/colab-badge.svg\" alt=\"Open In Colab\"/></a>"
      ]
    },
    {
      "cell_type": "code",
      "execution_count": null,
      "metadata": {
        "colab": {
          "base_uri": "https://localhost:8080/"
        },
        "id": "u6bi3iUXz7eY",
        "outputId": "5728ab57-3a16-4995-ed14-f0426aba9e2c"
      },
      "outputs": [
        {
          "output_type": "stream",
          "name": "stdout",
          "text": [
            "*************** Maas Artisi ****************\n",
            "Maasinizi girin lutfen:2400\n",
            "Eski maas: 2400 Yeni maasiniz: 2520.0\n"
          ]
        }
      ],
      "source": [
        "print(\"*************** Maas Artisi ****************\")\n",
        "maas=int(input(\"Maasinizi girin lutfen:\"))\n",
        "if 0<maas<= 1000:\n",
        "  ymaas=maas+maas*0.15\n",
        "  print (\"Eski maas:\", maas,\"Yeni maasiniz:\",ymaas)\n",
        "elif 1000<maas<=2000:\n",
        "  ymaas=maas+maas*0.1\n",
        "  print (\"Eski maas:\", maas,\"Yeni maasiniz:\",ymaas)\n",
        "elif 2000<maas<=3000:\n",
        "   ymaas=maas+maas*0.05\n",
        "   print (\"Eski maas:\", maas,\"Yeni maasiniz:\",ymaas)\n",
        "\n",
        "elif 3000<maas:\n",
        "   ymaas=maas+maas*0.025\n",
        "   print (\"Eski maas:\", maas,\"Yeni maasiniz:\",ymaas)\n",
        "else:\n",
        "  print(\"Maas girsi dogru degil\")\n"
      ]
    },
    {
      "cell_type": "code",
      "source": [
        "# Home Work 1\n",
        "# Q1) n elemanli bir string liste olustur. Girilen degerlerin her bir karekterini ekrana bastir\n",
        "n=int(input(\"Kactane Gireceginiz String verisi var:\"))\n",
        "data=list()\n",
        "data2=list()\n",
        "print(f\"Lutfen {n} verinizi sirasiyla giriniz\")\n",
        "for i in range(n):\n",
        "  data1=input(\"Verinizi girin:\")\n",
        "  data.append(data1)\n",
        "print(\"Veri listeniz:\",data)\n",
        "for i in range(n):\n",
        "  print(f\"{i}. veriniz:\", data[i])\n",
        "  print(f\"{i}. verinizin karekterleri:\", list(data[i]))\n",
        "\n",
        "\n"
      ],
      "metadata": {
        "id": "BKG45aBX0Xfp",
        "colab": {
          "base_uri": "https://localhost:8080/"
        },
        "outputId": "ea1a0243-ce02-4475-8295-1a1499ad3932"
      },
      "execution_count": null,
      "outputs": [
        {
          "output_type": "stream",
          "name": "stdout",
          "text": [
            "Kactane Gireceginiz String verisi var:3\n",
            "Lutfen 3 verinizi sirasiyla giriniz\n",
            "Verinizi girin:Karanfil\n",
            "Verinizi girin:Gul\n",
            "Verinizi girin:Manolya\n",
            "Veri listeniz: ['Karanfil', 'Gul', 'Manolya']\n",
            "0. veriniz: Karanfil\n",
            "0. verinizin karekterleri: ['K', 'a', 'r', 'a', 'n', 'f', 'i', 'l']\n",
            "1. veriniz: Gul\n",
            "1. verinizin karekterleri: ['G', 'u', 'l']\n",
            "2. veriniz: Manolya\n",
            "2. verinizin karekterleri: ['M', 'a', 'n', 'o', 'l', 'y', 'a']\n"
          ]
        }
      ]
    },
    {
      "cell_type": "code",
      "source": [
        "# Q2) n elemanli bir liste olustur. Max degeri ekrana bastir\n",
        "import random\n",
        "n=int(input(\"Kac elemanli bir tamsayi dizisi olusturmami istiyorsunuz n=?\"))\n",
        "rnd_sequence=list()\n",
        "for i in range(n):\n",
        "  rnd_sequence.append(random.randint(-100,200))\n",
        "print(\"Sizin icin uretilen dizi:\")\n",
        "print(rnd_sequence)\n",
        "print(\"Bu dizinin maksimum elemani:\", max(rnd_sequence))"
      ],
      "metadata": {
        "colab": {
          "base_uri": "https://localhost:8080/"
        },
        "id": "ieSpAq9hpOaE",
        "outputId": "030e692f-7842-4ab0-f05a-64fa7da47275"
      },
      "execution_count": null,
      "outputs": [
        {
          "output_type": "stream",
          "name": "stdout",
          "text": [
            "Kac elemanli bir tamsayi dizisi olusturmami istiyorsunuz n=?7\n",
            "Sizin icin uretilen dizi:\n",
            "[60, -1, 110, 76, 57, 73, -40]\n",
            "Bu dizinin maksimum elemani: 110\n"
          ]
        }
      ]
    },
    {
      "cell_type": "code",
      "source": [
        "#Q3) Kullanici adi ve sifresi olan bir veri grubuna gore, girilen kullanici adi ve sifresinin\n",
        "# dogru olup olmadiginin kontorl edilip uc denemesi olumsuz olanin hesabinin bloke edildigi\n",
        "# dogru girdi de ise ATM sistemine giris izini veren code\n",
        "\n",
        "print(\"***** ATM ISLEMLERINE GIRIS *******\")\n",
        "customers = [(\"unal\", \"psv123\"), (\"veli\", \"psv234\"), (\"ayse\", \"psv345\")]\n",
        "\n",
        "t = 0\n",
        "k=0\n",
        "while t < 3:\n",
        "    ka = input(\"Lutfen kullanici adinizi giriniz:\")\n",
        "    pw = input(\"Lutfen kullanici sifrenizi giriniz:\")\n",
        "\n",
        "    for i in range(len(customers)):\n",
        "        if ka == customers[i][0] and pw == customers[i][1]:\n",
        "          k=1\n",
        "          t = 3  # Set t to break out of the outer loop\n",
        "          break  # Exit the inner loop\n",
        "\n",
        "    if t < 3:\n",
        "        t += 1\n",
        "        print(\"Girisiniz yanlis. Kalan giris hakkiniz:\", 3 - t)\n",
        "if k==1:\n",
        "  print(\"Tebrikler Sisteme girdiniz!!!\")\n",
        "else:\n",
        "  print(\"Hesap Bloke edildi.\")"
      ],
      "metadata": {
        "colab": {
          "base_uri": "https://localhost:8080/"
        },
        "id": "MtrJ6_7upN39",
        "outputId": "7606c334-c690-452e-8c86-a8422a73e9fd"
      },
      "execution_count": null,
      "outputs": [
        {
          "output_type": "stream",
          "name": "stdout",
          "text": [
            "***** ATM ISLEMLERINE GIRIS *******\n",
            "Lutfen kullanici adinizi giriniz:ayse\n",
            "Lutfen kullanici sifrenizi giriniz:psv345\n",
            "Tebrikler Sisteme girdiniz!!!\n"
          ]
        }
      ]
    },
    {
      "cell_type": "code",
      "source": [
        "n=5\n",
        "ma369_students=[[\"Sara\", 50],[\"Ahmet\",70],[\"Dana\",50],[\"Hanan\",97],[\"Noor\",30]]\n",
        "sorted_ma369 = sorted(ma369_students, key=lambda x: (x[1], x[0]))\n",
        "lowest_grades = sorted_ma369[:3]\n",
        "for name, grade in lowest_grades:\n",
        "   print(f\"{name}\")\n",
        "   print(f\"{grade}\")\n",
        "print(\"There are\", n , \"students in this class whose names and grades are assembled to build the following list:\")\n",
        "print(ma369_students)\n",
        "print(\"The lowest grade is\", lowest_grades[0][1], \"belongs to\", lowest_grades[0][0],\". The second lowest grade of\", lowest_grades[1][1], \"belongs to both\", lowest_grades[1][0], \"and\", lowest_grades[2][0] )"
      ],
      "metadata": {
        "colab": {
          "base_uri": "https://localhost:8080/"
        },
        "id": "3xCB0TZ-BxyM",
        "outputId": "2ab5611e-87f7-430c-d93a-2247c99f67b8"
      },
      "execution_count": 24,
      "outputs": [
        {
          "output_type": "stream",
          "name": "stdout",
          "text": [
            "Noor\n",
            "30\n",
            "Dana\n",
            "50\n",
            "Sara\n",
            "50\n",
            "There are 5 students in this class whose names and grades are assembled to build the following list:\n",
            "[['Sara', 50], ['Ahmet', 70], ['Dana', 50], ['Hanan', 97], ['Noor', 30]]\n",
            "The lowest grade is 30 belongs to Noor . The second lowest grade of 50 belongs to both Dana and Sara\n"
          ]
        }
      ]
    }
  ]
}